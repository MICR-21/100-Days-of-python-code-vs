{
  "nbformat": 4,
  "nbformat_minor": 0,
  "metadata": {
    "colab": {
      "provenance": [],
      "collapsed_sections": [
        "GrOnVQzAxY9B",
        "3rpT3nv1xRSA",
        "glolQsMwxIlB",
        "qbbnilnEy2Xh"
      ],
      "authorship_tag": "ABX9TyNF1oB2jfxCCgCfzx6NUZ/Y",
      "include_colab_link": true
    },
    "kernelspec": {
      "name": "python3",
      "display_name": "Python 3"
    },
    "language_info": {
      "name": "python"
    }
  },
  "cells": [
    {
      "cell_type": "markdown",
      "metadata": {
        "id": "view-in-github",
        "colab_type": "text"
      },
      "source": [
        "<a href=\"https://colab.research.google.com/github/MICR-21/100-Days-of-python-code-vs/blob/main/Naive_Bayes.ipynb\" target=\"_parent\"><img src=\"https://colab.research.google.com/assets/colab-badge.svg\" alt=\"Open In Colab\"/></a>"
      ]
    },
    {
      "cell_type": "markdown",
      "source": [
        "# Setting Up the Kaggle Dataset"
      ],
      "metadata": {
        "id": "GrOnVQzAxY9B"
      }
    },
    {
      "cell_type": "code",
      "source": [
        "!pip install kaggle\n"
      ],
      "metadata": {
        "colab": {
          "base_uri": "https://localhost:8080/"
        },
        "id": "wj4aoiAcwItt",
        "outputId": "016137e8-f6a3-4a78-a37b-72df208b56e5"
      },
      "execution_count": 2,
      "outputs": [
        {
          "output_type": "stream",
          "name": "stdout",
          "text": [
            "Requirement already satisfied: kaggle in /usr/local/lib/python3.11/dist-packages (1.7.4.2)\n",
            "Requirement already satisfied: bleach in /usr/local/lib/python3.11/dist-packages (from kaggle) (6.2.0)\n",
            "Requirement already satisfied: certifi>=14.05.14 in /usr/local/lib/python3.11/dist-packages (from kaggle) (2025.1.31)\n",
            "Requirement already satisfied: charset-normalizer in /usr/local/lib/python3.11/dist-packages (from kaggle) (3.4.1)\n",
            "Requirement already satisfied: idna in /usr/local/lib/python3.11/dist-packages (from kaggle) (3.10)\n",
            "Requirement already satisfied: protobuf in /usr/local/lib/python3.11/dist-packages (from kaggle) (5.29.4)\n",
            "Requirement already satisfied: python-dateutil>=2.5.3 in /usr/local/lib/python3.11/dist-packages (from kaggle) (2.8.2)\n",
            "Requirement already satisfied: python-slugify in /usr/local/lib/python3.11/dist-packages (from kaggle) (8.0.4)\n",
            "Requirement already satisfied: requests in /usr/local/lib/python3.11/dist-packages (from kaggle) (2.32.3)\n",
            "Requirement already satisfied: setuptools>=21.0.0 in /usr/local/lib/python3.11/dist-packages (from kaggle) (75.2.0)\n",
            "Requirement already satisfied: six>=1.10 in /usr/local/lib/python3.11/dist-packages (from kaggle) (1.17.0)\n",
            "Requirement already satisfied: text-unidecode in /usr/local/lib/python3.11/dist-packages (from kaggle) (1.3)\n",
            "Requirement already satisfied: tqdm in /usr/local/lib/python3.11/dist-packages (from kaggle) (4.67.1)\n",
            "Requirement already satisfied: urllib3>=1.15.1 in /usr/local/lib/python3.11/dist-packages (from kaggle) (2.3.0)\n",
            "Requirement already satisfied: webencodings in /usr/local/lib/python3.11/dist-packages (from kaggle) (0.5.1)\n"
          ]
        }
      ]
    },
    {
      "cell_type": "code",
      "source": [
        "from google.colab import files\n",
        "files.upload()  # This will let you upload the kaggle.json file\n"
      ],
      "metadata": {
        "colab": {
          "base_uri": "https://localhost:8080/",
          "height": 107
        },
        "id": "UEoZvDJXw2Be",
        "outputId": "562e90d5-d6c8-474f-adb8-7f302d26a50f"
      },
      "execution_count": 3,
      "outputs": [
        {
          "output_type": "display_data",
          "data": {
            "text/plain": [
              "<IPython.core.display.HTML object>"
            ],
            "text/html": [
              "\n",
              "     <input type=\"file\" id=\"files-91c5f069-b421-4573-9ea2-befa2eec8102\" name=\"files[]\" multiple disabled\n",
              "        style=\"border:none\" />\n",
              "     <output id=\"result-91c5f069-b421-4573-9ea2-befa2eec8102\">\n",
              "      Upload widget is only available when the cell has been executed in the\n",
              "      current browser session. Please rerun this cell to enable.\n",
              "      </output>\n",
              "      <script>// Copyright 2017 Google LLC\n",
              "//\n",
              "// Licensed under the Apache License, Version 2.0 (the \"License\");\n",
              "// you may not use this file except in compliance with the License.\n",
              "// You may obtain a copy of the License at\n",
              "//\n",
              "//      http://www.apache.org/licenses/LICENSE-2.0\n",
              "//\n",
              "// Unless required by applicable law or agreed to in writing, software\n",
              "// distributed under the License is distributed on an \"AS IS\" BASIS,\n",
              "// WITHOUT WARRANTIES OR CONDITIONS OF ANY KIND, either express or implied.\n",
              "// See the License for the specific language governing permissions and\n",
              "// limitations under the License.\n",
              "\n",
              "/**\n",
              " * @fileoverview Helpers for google.colab Python module.\n",
              " */\n",
              "(function(scope) {\n",
              "function span(text, styleAttributes = {}) {\n",
              "  const element = document.createElement('span');\n",
              "  element.textContent = text;\n",
              "  for (const key of Object.keys(styleAttributes)) {\n",
              "    element.style[key] = styleAttributes[key];\n",
              "  }\n",
              "  return element;\n",
              "}\n",
              "\n",
              "// Max number of bytes which will be uploaded at a time.\n",
              "const MAX_PAYLOAD_SIZE = 100 * 1024;\n",
              "\n",
              "function _uploadFiles(inputId, outputId) {\n",
              "  const steps = uploadFilesStep(inputId, outputId);\n",
              "  const outputElement = document.getElementById(outputId);\n",
              "  // Cache steps on the outputElement to make it available for the next call\n",
              "  // to uploadFilesContinue from Python.\n",
              "  outputElement.steps = steps;\n",
              "\n",
              "  return _uploadFilesContinue(outputId);\n",
              "}\n",
              "\n",
              "// This is roughly an async generator (not supported in the browser yet),\n",
              "// where there are multiple asynchronous steps and the Python side is going\n",
              "// to poll for completion of each step.\n",
              "// This uses a Promise to block the python side on completion of each step,\n",
              "// then passes the result of the previous step as the input to the next step.\n",
              "function _uploadFilesContinue(outputId) {\n",
              "  const outputElement = document.getElementById(outputId);\n",
              "  const steps = outputElement.steps;\n",
              "\n",
              "  const next = steps.next(outputElement.lastPromiseValue);\n",
              "  return Promise.resolve(next.value.promise).then((value) => {\n",
              "    // Cache the last promise value to make it available to the next\n",
              "    // step of the generator.\n",
              "    outputElement.lastPromiseValue = value;\n",
              "    return next.value.response;\n",
              "  });\n",
              "}\n",
              "\n",
              "/**\n",
              " * Generator function which is called between each async step of the upload\n",
              " * process.\n",
              " * @param {string} inputId Element ID of the input file picker element.\n",
              " * @param {string} outputId Element ID of the output display.\n",
              " * @return {!Iterable<!Object>} Iterable of next steps.\n",
              " */\n",
              "function* uploadFilesStep(inputId, outputId) {\n",
              "  const inputElement = document.getElementById(inputId);\n",
              "  inputElement.disabled = false;\n",
              "\n",
              "  const outputElement = document.getElementById(outputId);\n",
              "  outputElement.innerHTML = '';\n",
              "\n",
              "  const pickedPromise = new Promise((resolve) => {\n",
              "    inputElement.addEventListener('change', (e) => {\n",
              "      resolve(e.target.files);\n",
              "    });\n",
              "  });\n",
              "\n",
              "  const cancel = document.createElement('button');\n",
              "  inputElement.parentElement.appendChild(cancel);\n",
              "  cancel.textContent = 'Cancel upload';\n",
              "  const cancelPromise = new Promise((resolve) => {\n",
              "    cancel.onclick = () => {\n",
              "      resolve(null);\n",
              "    };\n",
              "  });\n",
              "\n",
              "  // Wait for the user to pick the files.\n",
              "  const files = yield {\n",
              "    promise: Promise.race([pickedPromise, cancelPromise]),\n",
              "    response: {\n",
              "      action: 'starting',\n",
              "    }\n",
              "  };\n",
              "\n",
              "  cancel.remove();\n",
              "\n",
              "  // Disable the input element since further picks are not allowed.\n",
              "  inputElement.disabled = true;\n",
              "\n",
              "  if (!files) {\n",
              "    return {\n",
              "      response: {\n",
              "        action: 'complete',\n",
              "      }\n",
              "    };\n",
              "  }\n",
              "\n",
              "  for (const file of files) {\n",
              "    const li = document.createElement('li');\n",
              "    li.append(span(file.name, {fontWeight: 'bold'}));\n",
              "    li.append(span(\n",
              "        `(${file.type || 'n/a'}) - ${file.size} bytes, ` +\n",
              "        `last modified: ${\n",
              "            file.lastModifiedDate ? file.lastModifiedDate.toLocaleDateString() :\n",
              "                                    'n/a'} - `));\n",
              "    const percent = span('0% done');\n",
              "    li.appendChild(percent);\n",
              "\n",
              "    outputElement.appendChild(li);\n",
              "\n",
              "    const fileDataPromise = new Promise((resolve) => {\n",
              "      const reader = new FileReader();\n",
              "      reader.onload = (e) => {\n",
              "        resolve(e.target.result);\n",
              "      };\n",
              "      reader.readAsArrayBuffer(file);\n",
              "    });\n",
              "    // Wait for the data to be ready.\n",
              "    let fileData = yield {\n",
              "      promise: fileDataPromise,\n",
              "      response: {\n",
              "        action: 'continue',\n",
              "      }\n",
              "    };\n",
              "\n",
              "    // Use a chunked sending to avoid message size limits. See b/62115660.\n",
              "    let position = 0;\n",
              "    do {\n",
              "      const length = Math.min(fileData.byteLength - position, MAX_PAYLOAD_SIZE);\n",
              "      const chunk = new Uint8Array(fileData, position, length);\n",
              "      position += length;\n",
              "\n",
              "      const base64 = btoa(String.fromCharCode.apply(null, chunk));\n",
              "      yield {\n",
              "        response: {\n",
              "          action: 'append',\n",
              "          file: file.name,\n",
              "          data: base64,\n",
              "        },\n",
              "      };\n",
              "\n",
              "      let percentDone = fileData.byteLength === 0 ?\n",
              "          100 :\n",
              "          Math.round((position / fileData.byteLength) * 100);\n",
              "      percent.textContent = `${percentDone}% done`;\n",
              "\n",
              "    } while (position < fileData.byteLength);\n",
              "  }\n",
              "\n",
              "  // All done.\n",
              "  yield {\n",
              "    response: {\n",
              "      action: 'complete',\n",
              "    }\n",
              "  };\n",
              "}\n",
              "\n",
              "scope.google = scope.google || {};\n",
              "scope.google.colab = scope.google.colab || {};\n",
              "scope.google.colab._files = {\n",
              "  _uploadFiles,\n",
              "  _uploadFilesContinue,\n",
              "};\n",
              "})(self);\n",
              "</script> "
            ]
          },
          "metadata": {}
        },
        {
          "output_type": "stream",
          "name": "stdout",
          "text": [
            "Saving kaggle.json to kaggle.json\n"
          ]
        },
        {
          "output_type": "execute_result",
          "data": {
            "text/plain": [
              "{'kaggle.json': b'{\"username\":\"charlesgacari\",\"key\":\"7bd03565f0d72e4d0dc014f22bbfa22f\"}'}"
            ]
          },
          "metadata": {},
          "execution_count": 3
        }
      ]
    },
    {
      "cell_type": "markdown",
      "source": [
        "# Set Up Kaggle API Credentials"
      ],
      "metadata": {
        "id": "3rpT3nv1xRSA"
      }
    },
    {
      "cell_type": "code",
      "source": [
        "import os\n",
        "os.environ['KAGGLE_CONFIG_DIR'] = \"/content\"  # Set the directory path for kaggle.json\n"
      ],
      "metadata": {
        "id": "XmSRbWNWw9Df"
      },
      "execution_count": 4,
      "outputs": []
    },
    {
      "cell_type": "markdown",
      "source": [
        "# Download the Dataset from Kaggle"
      ],
      "metadata": {
        "id": "glolQsMwxIlB"
      }
    },
    {
      "cell_type": "code",
      "source": [
        "!kaggle datasets download -d uciml/breast-cancer-wisconsin-data\n"
      ],
      "metadata": {
        "colab": {
          "base_uri": "https://localhost:8080/"
        },
        "id": "uYP3bPZixFxj",
        "outputId": "4c303346-8187-43d4-f3c3-9332f4ce7ac3"
      },
      "execution_count": 5,
      "outputs": [
        {
          "output_type": "stream",
          "name": "stdout",
          "text": [
            "Warning: Your Kaggle API key is readable by other users on this system! To fix this, you can run 'chmod 600 /content/kaggle.json'\n",
            "Dataset URL: https://www.kaggle.com/datasets/uciml/breast-cancer-wisconsin-data\n",
            "License(s): CC-BY-NC-SA-4.0\n"
          ]
        }
      ]
    },
    {
      "cell_type": "markdown",
      "source": [
        "# Extract the Dataset"
      ],
      "metadata": {
        "id": "qbbnilnEy2Xh"
      }
    },
    {
      "cell_type": "code",
      "source": [
        "!unzip breast-cancer-wisconsin-data.zip\n"
      ],
      "metadata": {
        "colab": {
          "base_uri": "https://localhost:8080/"
        },
        "id": "vptl5MtPy4Jt",
        "outputId": "c5eede84-3eb4-47ad-ca9f-314c4654d2a3"
      },
      "execution_count": 6,
      "outputs": [
        {
          "output_type": "stream",
          "name": "stdout",
          "text": [
            "Archive:  breast-cancer-wisconsin-data.zip\n",
            "  inflating: data.csv                \n"
          ]
        }
      ]
    },
    {
      "cell_type": "markdown",
      "source": [
        "# Import the dataset"
      ],
      "metadata": {
        "id": "UOqxWtSjwFMx"
      }
    },
    {
      "cell_type": "markdown",
      "source": [
        "- pands and numpy help handle and process data easily.\n",
        "- matplotlib.pyplot and seaborn are used for creating visualizations e.g. confusion matrix and ROC curves.\n",
        "- sklearn.model_selection.train_test_split helps split the dataset into training and testing sets.\n",
        "- sklearn.metrics provides the tools needed to evaluate the performance of the model like ROC curve metrics."
      ],
      "metadata": {
        "id": "Lx1Zxqew1Hf4"
      }
    },
    {
      "cell_type": "code",
      "source": [
        "import numpy as np\n",
        "import pandas as pd\n",
        "import seaborn as sns\n",
        "from sklearn.model_selection import train_test_split\n",
        "from sklearn.preprocessing import StandardScaler\n",
        "from sklearn.metrics import accuracy_score, precision_score, recall_score, f1_score, confusion_matrix\n",
        "import matplotlib.pyplot as plt\n",
        "from sklearn.metrics import (\n",
        "    accuracy_score, precision_score, recall_score, f1_score,\n",
        "    confusion_matrix, ConfusionMatrixDisplay,\n",
        "    roc_curve, auc, RocCurveDisplay\n",
        ")"
      ],
      "metadata": {
        "id": "8ssR2oUBwMhv"
      },
      "execution_count": 7,
      "outputs": []
    },
    {
      "cell_type": "markdown",
      "source": [
        "# Load and Exploring the dataset"
      ],
      "metadata": {
        "id": "zzb_P2uKwQ17"
      }
    },
    {
      "cell_type": "markdown",
      "source": [
        "The dataset was first loaded and cleaned by removing the 'id' column, which had no predictive value. The diagnosis labels ('M' for malignant and 'B' for benign) were converted into binary values (1 and 0, respectively) to make them compatible with numerical computation. e.g **data['diagnosis'] = data['diagnosis'].map({'M': 1, 'B': 0})**\n",
        "\n",
        "Feature values were normalized using MinMaxScaler to ensure all features were on the same scale, which is important for maintaining the balance of influence across features, especially when calculating probabilities in the Naive Bayes model.\n",
        "\n",
        "After preprocessing, the dataset was split into training and test sets using an 80/20 ratio. **Setting random_state = 42 ensures the split is the same each time the code is run.** This ensures that the model is trained on a majority of the data but evaluated on a separate, unseen portion. Such a split is crucial to prevent overfitting and to test the model's generalization ability on new, real-world data."
      ],
      "metadata": {
        "id": "I-acAGX6fwHe"
      }
    },
    {
      "cell_type": "code",
      "source": [
        "# Load the dataset (the csv file after unzipping)\n",
        "data = pd.read_csv('data.csv')\n",
        "\n",
        "# Display the first few rows\n",
        "data.head()\n",
        "\n",
        "# Drop the 'id' and 'Unnamed: 32' columns\n",
        "data.drop(['id', 'Unnamed: 32'], axis=1, inplace=True)\n",
        "\n",
        "# Encode 'diagnosis': M -> 1, B -> 0\n",
        "data['diagnosis'] = data['diagnosis'].map({'M': 1, 'B': 0})\n",
        "\n",
        "# Split features and target\n",
        "X = data.drop('diagnosis', axis=1).values\n",
        "y = data['diagnosis'].values\n",
        "\n",
        "# Split the data into training and testing sets (80% train, 20% test)\n",
        "X_train, X_test, y_train, y_test = train_test_split(X, y, test_size=0.2, random_state=42)\n",
        "\n",
        "# Standardize the features\n",
        "scaler = StandardScaler()\n",
        "X_train = scaler.fit_transform(X_train)\n",
        "X_test = scaler.transform(X_test)\n"
      ],
      "metadata": {
        "id": "DGtZDJDAwRNB"
      },
      "execution_count": 8,
      "outputs": []
    },
    {
      "cell_type": "markdown",
      "source": [
        "# Implementing the Naive Bayes Classifier"
      ],
      "metadata": {
        "id": "enuX6OzxwSra"
      }
    },
    {
      "cell_type": "markdown",
      "source": [
        "A Gaussian Naive Bayes classifier was implemented manually using NumPy. The algorithm calculates the prior probabilities for each class and assumes each feature follows a Gaussian distribution.\n",
        "\n",
        "For each class, the mean and variance of each feature were computed. The fit method calculates the mean and variance of each feature for each class (0 or 1) and the prior probability of each class.\n",
        "\n",
        "The predict method uses Bayes' theorem to predict the class for new data points based on the statistics calculated.\n",
        "\n",
        "These steps were essential to understand the inner workings of Naive Bayes and how it applies Bayes' Theorem with the naive assumption of feature independence.\n"
      ],
      "metadata": {
        "id": "Br10H9c6fbeX"
      }
    },
    {
      "cell_type": "markdown",
      "source": [
        "Key Formula Recap:\n",
        "𝑃\n",
        "(\n",
        "𝑐\n",
        "𝑙\n",
        "𝑎\n",
        "𝑠\n",
        "𝑠\n",
        "∣\n",
        "𝑓\n",
        "𝑒\n",
        "𝑎\n",
        "𝑡\n",
        "𝑢\n",
        "𝑟\n",
        "𝑒\n",
        "𝑠\n",
        ")\n",
        "∝\n",
        "𝑃\n",
        "(\n",
        "𝑐\n",
        "𝑙\n",
        "𝑎\n",
        "𝑠\n",
        "𝑠\n",
        ")\n",
        "×\n",
        "∏\n",
        "𝑃\n",
        "(\n",
        "𝑓\n",
        "𝑒\n",
        "𝑎\n",
        "𝑡\n",
        "𝑢\n",
        "𝑟\n",
        "𝑒\n",
        "𝑖\n",
        "∣\n",
        "𝑐\n",
        "𝑙\n",
        "𝑎\n",
        "𝑠\n",
        "𝑠\n",
        ")\n",
        "P(class∣features)∝P(class)×∏P(feature\n",
        "i\n",
        "​\n",
        " ∣class)"
      ],
      "metadata": {
        "id": "MO3i-ND50Vdp"
      }
    },
    {
      "cell_type": "code",
      "source": [
        "class NaiveBayesClassifier:\n",
        "    def fit(self, X, y):\n",
        "        self.classes = np.unique(y)\n",
        "        self.mean = {}\n",
        "        self.var = {}\n",
        "        self.priors = {}\n",
        "\n",
        "        for c in self.classes:\n",
        "            X_c = X[y == c]\n",
        "            self.mean[c] = np.mean(X_c, axis=0)\n",
        "            self.var[c] = np.var(X_c, axis=0) + 1e-9  # Prevent division by zero\n",
        "            self.priors[c] = X_c.shape[0] / X.shape[0]\n",
        "\n",
        "    def _pdf(self, class_idx, x):\n",
        "        mean = self.mean[class_idx]\n",
        "        var = self.var[class_idx]\n",
        "        numerator = np.exp(- (x - mean) ** 2 / (2 * var))\n",
        "        denominator = np.sqrt(2 * np.pi * var)\n",
        "        return numerator / denominator\n",
        "\n",
        "    def _predict_single(self, x):\n",
        "        posteriors = []\n",
        "\n",
        "        for c in self.classes:\n",
        "            prior = np.log(self.priors[c])\n",
        "            class_conditional = np.sum(np.log(self._pdf(c, x)))\n",
        "            posterior = prior + class_conditional\n",
        "            posteriors.append(posterior)\n",
        "\n",
        "        return self.classes[np.argmax(posteriors)]\n",
        "\n",
        "    def predict(self, X):\n",
        "        return np.array([self._predict_single(x) for x in X])\n",
        "\n",
        "    def predict_proba(self, X):\n",
        "        proba = []\n",
        "        for x in X:\n",
        "            posteriors = []\n",
        "            for c in self.classes:\n",
        "                prior = np.log(self.priors[c])\n",
        "                class_conditional = np.sum(np.log(self._pdf(c, x)))\n",
        "                posterior = prior + class_conditional\n",
        "                posteriors.append(posterior)\n",
        "            # Convert log probabilities back to normal scale\n",
        "            posteriors = np.exp(posteriors - np.max(posteriors))  # For numerical stability\n",
        "            proba.append(posteriors / np.sum(posteriors))\n",
        "        return np.array(proba)\n"
      ],
      "metadata": {
        "id": "kiOqBRYDwS2U"
      },
      "execution_count": 9,
      "outputs": []
    },
    {
      "cell_type": "markdown",
      "source": [
        "#Train the Model"
      ],
      "metadata": {
        "id": "rciUV6zl1rrb"
      }
    },
    {
      "cell_type": "markdown",
      "source": [
        "The training phase involved computing and storing the statistical parameters (mean, variance, and prior) for each class from the training data. These parameters summarize the data distribution and are used to estimate the likelihood of a test sample belonging to each class during prediction. This step builds the foundational knowledge the model uses for inference.\n",
        "\n",
        "An instance of the NaiveBayes class and call **fit** to train the model on the training data. During this step, the model learns the mean, variance, prior probabilities of the data for each class."
      ],
      "metadata": {
        "id": "oPp2_bUQfe-v"
      }
    },
    {
      "cell_type": "code",
      "source": [
        "# Initialize and train the classifier\n",
        "nb = NaiveBayesClassifier()\n",
        "nb.fit(X_train, y_train)\n"
      ],
      "metadata": {
        "id": "inp1KoDy1sIg"
      },
      "execution_count": 10,
      "outputs": []
    },
    {
      "cell_type": "markdown",
      "source": [
        "# Make Predictions"
      ],
      "metadata": {
        "id": "3ECtqtEu1sef"
      }
    },
    {
      "cell_type": "markdown",
      "source": [
        "Once trained, the model was used to predict labels on the test set. For each test instance, it computed the posterior probability of it being in each class and assigned the class with the highest probability. This step showcases the actual application of Bayes’ Theorem in classifying unknown instances using the learned distributions."
      ],
      "metadata": {
        "id": "nhmbc7gUfikL"
      }
    },
    {
      "cell_type": "code",
      "source": [
        "# Make predictions on the test set\n",
        "y_pred = nb.predict(X_test)\n"
      ],
      "metadata": {
        "id": "xqQNRTcG2vki"
      },
      "execution_count": 11,
      "outputs": []
    },
    {
      "cell_type": "markdown",
      "source": [
        "# Evaluate the Model"
      ],
      "metadata": {
        "id": "jx7TN1zU2jHE"
      }
    },
    {
      "cell_type": "markdown",
      "source": [
        "The model's predictions were evaluated using accuracy, precision, recall, and F1-score. Each metric provides a different perspective: accuracy shows overall correctness, precision tells how many predicted positives were correct, recall shows how many actual positives were detected, and F1-score balances precision and recall. This comprehensive evaluation helps in understanding both the strengths and weaknesses of the model."
      ],
      "metadata": {
        "id": "jaZA8sNyfmb-"
      }
    },
    {
      "cell_type": "code",
      "source": [
        "# Calculate evaluation metrics\n",
        "accuracy = accuracy_score(y_test, y_pred)\n",
        "precision = precision_score(y_test, y_pred, zero_division=0)\n",
        "recall = recall_score(y_test, y_pred, zero_division=0)\n",
        "f1 = f1_score(y_test, y_pred, zero_division=0)\n",
        "\n",
        "# Display the results\n",
        "print(f\"Accuracy: {accuracy:.4f}\")\n",
        "print(f\"Precision: {precision:.4f}\")\n",
        "print(f\"Recall: {recall:.4f}\")\n",
        "print(f\"F1 Score: {f1:.4f}\")\n"
      ],
      "metadata": {
        "colab": {
          "base_uri": "https://localhost:8080/"
        },
        "id": "eChSXh0_6mWw",
        "outputId": "9f98a332-24ea-4d6e-9f5c-db16ba3a46e2"
      },
      "execution_count": 12,
      "outputs": [
        {
          "output_type": "stream",
          "name": "stdout",
          "text": [
            "Accuracy: 0.9649\n",
            "Precision: 0.9756\n",
            "Recall: 0.9302\n",
            "F1 Score: 0.9524\n"
          ]
        }
      ]
    },
    {
      "cell_type": "markdown",
      "source": [
        "# Visualizing Evaluation Metrics in a Bar Chart"
      ],
      "metadata": {
        "id": "FVAFXMTizKuV"
      }
    },
    {
      "cell_type": "code",
      "source": [
        "# Labels and values\n",
        "metrics = ['Accuracy', 'Precision', 'Recall', 'F1-Score']\n",
        "scores = [accuracy, precision, recall, f1]\n",
        "\n",
        "# Plotting\n",
        "plt.figure(figsize=(8, 6))\n",
        "bars = plt.bar(metrics, scores, color=['skyblue', 'lightgreen', 'salmon', 'plum'])\n",
        "plt.ylim(0, 1)\n",
        "plt.title('Naive Bayes Model Performance')\n",
        "plt.ylabel('Score')\n",
        "plt.grid(axis='y', linestyle='--', alpha=0.7)\n",
        "\n",
        "# Add value labels on top of each bar\n",
        "for bar in bars:\n",
        "    yval = bar.get_height()\n",
        "    plt.text(bar.get_x() + bar.get_width()/2.0, yval + 0.02, f'{yval:.2f}', ha='center', fontsize=10)\n",
        "\n",
        "plt.show()\n"
      ],
      "metadata": {
        "id": "GyIJ1h8NzJrx",
        "colab": {
          "base_uri": "https://localhost:8080/",
          "height": 532
        },
        "outputId": "7c2cb6c3-3073-45ba-88ef-ed3c8158e45e"
      },
      "execution_count": 16,
      "outputs": [
        {
          "output_type": "display_data",
          "data": {
            "text/plain": [
              "<Figure size 800x600 with 1 Axes>"
            ],
            "image/png": "[encoded data removed]"
          },
          "metadata": {}
        }
      ]
    },
    {
      "cell_type": "markdown",
      "source": [
        "# Visualize the Confusion Matrix"
      ],
      "metadata": {
        "id": "gTolBzn0yt23"
      }
    },
    {
      "cell_type": "markdown",
      "source": [
        "The confusion matrix is generated to visualize how many predictions were correct and where the model may have made mistakes e.g false positives and negatives. We plot it using seabord to make it easier to intercept."
      ],
      "metadata": {
        "id": "gHZyNtATKkb3"
      }
    },
    {
      "cell_type": "code",
      "source": [
        "import seaborn as sns\n",
        "plt.figure(figsize=(6, 5))\n",
        "conf_matrix = confusion_matrix(y_test, y_pred)\n",
        "sns.heatmap(conf_matrix, annot=True, fmt='d', cmap='Blues', xticklabels=['Benign', 'Malignant'], yticklabels=['Benign', 'Malignant'])\n",
        "plt.xlabel('Predicted')\n",
        "plt.ylabel('Actual')\n",
        "plt.title('Confusion Matrix')\n",
        "plt.show()\n"
      ],
      "metadata": {
        "colab": {
          "base_uri": "https://localhost:8080/",
          "height": 487
        },
        "id": "StzrSJToyzaO",
        "outputId": "c9691b05-f53b-46c2-851a-82ce8a98d66d"
      },
      "execution_count": 18,
      "outputs": [
        {
          "output_type": "display_data",
          "data": {
            "text/plain": [
              "<Figure size 600x500 with 2 Axes>"
            ],
            "image/png": "[encoded data removed]"
          },
          "metadata": {}
        }
      ]
    },
    {
      "cell_type": "markdown",
      "source": [
        "# Plot the ROC Curve"
      ],
      "metadata": {
        "id": "xUIyOzZszCA8"
      }
    },
    {
      "cell_type": "code",
      "source": [
        "# Get scores and calculate ROC metrics\n",
        "y_scores = nb.predict_proba(X_test)[:, 1]\n",
        "fpr, tpr, thresholds = roc_curve(y_test, y_scores)\n",
        "roc_auc = auc(fpr, tpr)\n",
        "\n",
        "# Plot with labels and styling\n",
        "plt.figure(figsize=(8, 6))\n",
        "plt.plot(fpr, tpr, color='darkorange', lw=2, label=f'ROC curve (AUC = {roc_auc:.2f})')\n",
        "plt.plot([0, 1], [0, 1], color='green', lw=2, linestyle='--', label='Random Guess')\n",
        "\n",
        "plt.xlim([0.0, 1.0])\n",
        "plt.ylim([0.0, 1.05])\n",
        "plt.xlabel('False Positive Rate', fontsize=12)\n",
        "plt.ylabel('True Positive Rate', fontsize=12)\n",
        "plt.title('Receiver Operating Characteristic (ROC)', fontsize=14)\n",
        "plt.legend(loc='lower right')\n",
        "plt.grid(True, linestyle='--', alpha=0.7)\n",
        "plt.show()\n"
      ],
      "metadata": {
        "colab": {
          "base_uri": "https://localhost:8080/",
          "height": 544
        },
        "id": "VX2HvCWjz1Tu",
        "outputId": "34b0a3b1-bf1f-485e-8f5c-d69d00199e68"
      },
      "execution_count": 20,
      "outputs": [
        {
          "output_type": "display_data",
          "data": {
            "text/plain": [
              "<Figure size 800x600 with 1 Axes>"
            ],
            "image/png": "[encoded data removed]"
          },
          "metadata": {}
        }
      ]
    },
    {
      "cell_type": "markdown",
      "source": [
        "# Step 9: Bayes’ Theorem Explained in My Own Words\n",
        "Bayes’ Theorem helps us update our beliefs about something based on new evidence. In classification, we want to know the probability of a class (e.g., species of a flower) given the observed features (like petal length).\n",
        "\n",
        "Instead of guessing blindly, we use the formula:\n",
        "\n",
        "𝑃(𝐶𝑙𝑎𝑠𝑠∣𝐹𝑒𝑎𝑡𝑢𝑟𝑒𝑠)=𝑃(𝐹𝑒𝑎𝑡𝑢𝑟𝑒𝑠∣𝐶𝑙𝑎𝑠𝑠) * P\n",
        "(𝐶𝑙𝑎𝑠𝑠) / 𝑃(𝐹𝑒𝑎𝑡𝑢𝑟𝑒𝑠)\n",
        "\n",
        "\n",
        "In Naive Bayes, we assume the features are independent (which is rarely true, but works surprisingly well). This lets us calculate:\n",
        "\n",
        "Prior (P(Class)): How common the class is\n",
        "\n",
        "Likelihood (P(Features|Class)): How likely these features appear in that class\n",
        "\n",
        "Posterior (P(Class|Features)): The final score for that class, given the data"
      ],
      "metadata": {
        "id": "3xCvnrKM6tAc"
      }
    }
  ]
}